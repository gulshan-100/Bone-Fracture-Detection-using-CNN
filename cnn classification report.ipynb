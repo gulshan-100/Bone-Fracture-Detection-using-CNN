{
 "cells": [
  {
   "cell_type": "code",
   "execution_count": null,
   "id": "2965bc09",
   "metadata": {},
   "outputs": [],
   "source": [
    "import os\n",
    "import numpy as np\n",
    "import cv2\n",
    "import pandas as pd\n",
    "import tensorflow as tf\n",
    "from tensorflow.keras.models +import load_model\n",
    "from sklearn.metrics import classification_report\n",
    "from sklearn.model_selection import tr+ain_test_split\n",
    "\n",
    "# Function to load and preprocess images\n",
    "def load_and_preprocess_images(image_paths):\n",
    "    images = []\n",
    "    for img_path in image_paths:\n",
    "        img = cv2.imread(img_path)\n",
    "        if img is not None:\n",
    "            img = cv2.resize(img, (64, 64))\n",
    "            img = img / 255.0  # Normalize pixel values to range [0, 1]\n",
    "            images.append(img)\n",
    "    return np.array(images)\n",
    "\n",
    "# Load dataset.csv\n",
    "dataset_csv = r\"C:\\Users\\DELL\\Downloads\\FracAtlas\\FracAtlas\\dataset.csv\"\n",
    "data_df = pd.read_csv(dataset_csv)\n",
    "\n",
    "# Filter images based on fracture status\n",
    "fracture_data = data_df[data_df['fractured'] == 1]\n",
    "non_fracture_data = data_df[data_df['fractured'] == 0]\n",
    "\n",
    "# Get image paths\n",
    "fractured_image_paths = [os.path.join(r\"C:\\Users\\DELL\\Downloads\\FracAtlas\\FracAtlas\\images\\Fractured\", img_name) for img_name in fracture_data['image_id']]\n",
    "non_fractured_image_paths = [os.path.join(r\"C:\\Users\\DELL\\Downloads\\FracAtlas\\FracAtlas\\images\\Non_fractured\", img_name) for img_name in non_fracture_data['image_id']]\n",
    "\n",
    "# Load and preprocess images\n",
    "fractured_images = load_and_preprocess_images(fractured_image_paths)\n",
    "non_fractured_images = load_and_preprocess_images(non_fractured_image_paths)\n",
    "\n",
    "# Combine images and create labels\n",
    "all_images = np.concatenate((fractured_images, non_fractured_images), axis=0)\n",
    "all_labels = np.concatenate((np.ones(len(fractured_images)), np.zeros(len(non_fractured_images))), axis=0)\n",
    "\n",
    "# Split the dataset into training and test sets\n",
    "X_train, X_test, y_train, y_test = train_test_split(all_images, all_labels, test_size=0.2, random_state=42)\n",
    "\n",
    "# Load the trained model\n",
    "model = load_model('BONE.h5')\n",
    "\n",
    "# Make predictions on the test set\n",
    "y_pred = model.predict(X_test)\n",
    "y_pred_classes = (y_pred > 0.5).astype(int).flatten()\n",
    "\n",
    "# Generate classification report\n",
    "report = classification_report(y_test, y_pred_classes, target_names=['Non-fractured', 'Fractured'])\n",
    "print(report)\n",
    "\n",
    "# Print lengths of datasets\n",
    "\n",
    "print(f'Number of training samples: {len(X_train)}')\n",
    "print(f'Number of validation samples: {len(X_val)}')\n",
    "print(f'Number of testing samples: {len(X_test)}')"
   ]
  },
  {
   "cell_type": "code",
   "execution_count": null,
   "id": "86c1e045",
   "metadata": {},
   "outputs": [],
   "source": [
    "# Generate classification report\n",
    "report = classification_report(y_test, y_pred_classes, target_names=['0', '1'])\n",
    "print(report)"
   ]
  },
  {
   "cell_type": "code",
   "execution_count": null,
   "id": "42ae9444",
   "metadata": {},
   "outputs": [],
   "source": [
    "print(\"HELLO\")"
   ]
  },
  {
   "cell_type": "code",
   "execution_count": null,
   "id": "acc0d499",
   "metadata": {},
   "outputs": [],
   "source": [
    "\n",
    "# Print lengths of datasets\n",
    "\n",
    "print(f'Number of training samples: {len(X_train)}')\n",
    "print(f'Number of validation samples: {len(X_val)}')\n",
    "print(f'Number of testing samples: {len(X_test)}')\n",
    "\n",
    "                                                                                                                                "
   ]
  },
  {
   "cell_type": "code",
   "execution_count": null,
   "id": "e4b23df7",
   "metadata": {},
   "outputs": [],
   "source": []
  }
 ],
 "metadata": {
  "kernelspec": {
   "display_name": "Python 3 (ipykernel)",
   "language": "python",
   "name": "python3"
  },
  "language_info": {
   "codemirror_mode": {
    "name": "ipython",
    "version": 3
   },
   "file_extension": ".py",
   "mimetype": "text/x-python",
   "name": "python",
   "nbconvert_exporter": "python",
   "pygments_lexer": "ipython3",
   "version": "3.11.5"
  }
 },
 "nbformat": 4,
 "nbformat_minor": 5
}
